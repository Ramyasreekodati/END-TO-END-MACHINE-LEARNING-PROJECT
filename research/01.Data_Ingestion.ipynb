{
 "cells": [
  {
   "cell_type": "code",
   "execution_count": 11,
   "metadata": {},
   "outputs": [],
   "source": [
    "import os\n"
   ]
  },
  {
   "cell_type": "code",
   "execution_count": 12,
   "metadata": {},
   "outputs": [
    {
     "data": {
      "text/plain": [
       "'f:\\\\end to end ml project\\\\END-TO-END-MACHINE-LEARNING-PROJECT'"
      ]
     },
     "execution_count": 12,
     "metadata": {},
     "output_type": "execute_result"
    }
   ],
   "source": [
    "%pwd"
   ]
  },
  {
   "cell_type": "code",
   "execution_count": 13,
   "metadata": {},
   "outputs": [],
   "source": [
    "os.chdir(\"../\")"
   ]
  },
  {
   "cell_type": "code",
   "execution_count": 14,
   "metadata": {},
   "outputs": [
    {
     "data": {
      "text/plain": [
       "'f:\\\\end to end ml project'"
      ]
     },
     "execution_count": 14,
     "metadata": {},
     "output_type": "execute_result"
    }
   ],
   "source": [
    "%pwd # one folder back"
   ]
  },
  {
   "cell_type": "code",
   "execution_count": 15,
   "metadata": {},
   "outputs": [],
   "source": [
    "# congif.yaml\n",
    "\n",
    "\"\"\"Here the process is happening in artifile \"\"\"\n",
    "\n",
    "from dataclasses import dataclass  # the dataclass decorator for simplifying class creation\n",
    "from pathlib import Path  # Path for handling file system paths \n",
    "\n",
    "@dataclass(frozen=True)  #  simplifies the class structure; frozen makes it immutable\n",
    "class DataIngestionConfig:\n",
    "    root_dir: Path  # Root directory for managing all data ingestion-related files and outputs\n",
    "    source_URL: str  # URL of the data source to be downloaded\n",
    "    local_data_file: Path  # Path where the downloaded data file will be stored locally\n",
    "    unzip_dir: Path  # Directory where the data will be extracted after downloading\n"
   ]
  },
  {
   "cell_type": "code",
   "execution_count": 16,
   "metadata": {},
   "outputs": [],
   "source": [
    "# form utils ....common..... read.yaml  \n",
    "from wine_quality.constants import *\n",
    "from wine_quality.utils.common import read_yaml, create_directories"
   ]
  },
  {
   "cell_type": "code",
   "execution_count": 21,
   "metadata": {},
   "outputs": [
    {
     "ename": "NameError",
     "evalue": "name 'CONFIG_FILE_PATH' is not defined",
     "output_type": "error",
     "traceback": [
      "\u001b[1;31m---------------------------------------------------------------------------\u001b[0m",
      "\u001b[1;31mNameError\u001b[0m                                 Traceback (most recent call last)",
      "Cell \u001b[1;32mIn[21], line 1\u001b[0m\n\u001b[1;32m----> 1\u001b[0m \u001b[38;5;28;01mclass\u001b[39;00m \u001b[38;5;21;01mConfigurationManager\u001b[39;00m:\n\u001b[0;32m      2\u001b[0m     \u001b[38;5;28;01mdef\u001b[39;00m \u001b[38;5;21m__init__\u001b[39m(\n\u001b[0;32m      3\u001b[0m         \u001b[38;5;28mself\u001b[39m,\n\u001b[0;32m      4\u001b[0m         config_filepath \u001b[38;5;241m=\u001b[39m CONFIG_FILE_PATH,  \u001b[38;5;66;03m# Path to the main config file\u001b[39;00m\n\u001b[0;32m      5\u001b[0m         params_filepath \u001b[38;5;241m=\u001b[39m PARAMS_FILE_PATH,  \u001b[38;5;66;03m# Path to the parameters file\u001b[39;00m\n\u001b[0;32m      6\u001b[0m         schema_filepath \u001b[38;5;241m=\u001b[39m SCHEMA_FILE_PATH  \u001b[38;5;66;03m# Path to the schema file\u001b[39;00m\n\u001b[0;32m      7\u001b[0m     ):\n\u001b[0;32m      8\u001b[0m         \u001b[38;5;28mself\u001b[39m\u001b[38;5;241m.\u001b[39mconfig \u001b[38;5;241m=\u001b[39m read_yaml(config_filepath)  \u001b[38;5;66;03m# Load configuration settings\u001b[39;00m\n",
      "Cell \u001b[1;32mIn[21], line 4\u001b[0m, in \u001b[0;36mConfigurationManager\u001b[1;34m()\u001b[0m\n\u001b[0;32m      1\u001b[0m \u001b[38;5;28;01mclass\u001b[39;00m \u001b[38;5;21;01mConfigurationManager\u001b[39;00m:\n\u001b[0;32m      2\u001b[0m     \u001b[38;5;28;01mdef\u001b[39;00m \u001b[38;5;21m__init__\u001b[39m(\n\u001b[0;32m      3\u001b[0m         \u001b[38;5;28mself\u001b[39m,\n\u001b[1;32m----> 4\u001b[0m         config_filepath \u001b[38;5;241m=\u001b[39m \u001b[43mCONFIG_FILE_PATH\u001b[49m,  \u001b[38;5;66;03m# Path to the main config file\u001b[39;00m\n\u001b[0;32m      5\u001b[0m         params_filepath \u001b[38;5;241m=\u001b[39m PARAMS_FILE_PATH,  \u001b[38;5;66;03m# Path to the parameters file\u001b[39;00m\n\u001b[0;32m      6\u001b[0m         schema_filepath \u001b[38;5;241m=\u001b[39m SCHEMA_FILE_PATH  \u001b[38;5;66;03m# Path to the schema file\u001b[39;00m\n\u001b[0;32m      7\u001b[0m     ):\n\u001b[0;32m      8\u001b[0m         \u001b[38;5;28mself\u001b[39m\u001b[38;5;241m.\u001b[39mconfig \u001b[38;5;241m=\u001b[39m read_yaml(config_filepath)  \u001b[38;5;66;03m# Load configuration settings\u001b[39;00m\n\u001b[0;32m      9\u001b[0m         \u001b[38;5;28mself\u001b[39m\u001b[38;5;241m.\u001b[39mparams \u001b[38;5;241m=\u001b[39m read_yaml(params_filepath)  \u001b[38;5;66;03m# Load parameter settings\u001b[39;00m\n",
      "\u001b[1;31mNameError\u001b[0m: name 'CONFIG_FILE_PATH' is not defined"
     ]
    }
   ],
   "source": [
    "class ConfigurationManager:\n",
    "    def __init__(\n",
    "        self,\n",
    "        config_filepath = CONFIG_FILE_PATH,  # Path to the main config file\n",
    "        params_filepath = PARAMS_FILE_PATH,  # Path to the parameters file\n",
    "        schema_filepath = SCHEMA_FILE_PATH  # Path to the schema file\n",
    "    ):\n",
    "        self.config = read_yaml(config_filepath)  # Load configuration settings\n",
    "        self.params = read_yaml(params_filepath)  # Load parameter settings\n",
    "        self.schema = read_yaml(schema_filepath)  # Load schema details\n",
    "\n",
    "        create_directories([self.config.artifacts_root])  # Ensure artifact root directory exists\n",
    "\n",
    "        # Artifacts setup starts here for data ingestion\n",
    "\n",
    "    def get_data_ingestion_config(self) -> DataIngestionConfig:  # Returns data ingestion configuration\n",
    "        config = self.config.data_ingestion  # Access data ingestion settings\n",
    "\n",
    "        create_directories([config.root_dir])  # Ensure the root directory for data ingestion exists\n",
    "\n",
    "        # Populate and return the DataIngestionConfig object with relevant paths and URLs\n",
    "        data_ingestion_config = DataIngestionConfig(\n",
    "            root_dir=config.root_dir,\n",
    "            source_URL=config.source_URL,\n",
    "            local_data_file=config.local_data_file,\n",
    "            unzip_dir=config.unzip_dir\n",
    "        )\n",
    "\n",
    "        return data_ingestion_config\n"
   ]
  },
  {
   "cell_type": "code",
   "execution_count": 18,
   "metadata": {},
   "outputs": [],
   "source": [
    "import os\n",
    "import urllib.request as request\n",
    "import zipfile\n",
    "from wine_quality import logger\n",
    "from wine_quality.utils.common import get_size"
   ]
  },
  {
   "cell_type": "code",
   "execution_count": 19,
   "metadata": {},
   "outputs": [],
   "source": [
    "class DataIngestion:\n",
    "    def __init__(self, config: DataIngestionConfig):\n",
    "        self.config = config  # Store the DataIngestionConfig object for file paths and URLs\n",
    "\n",
    "    def download_file(self):\n",
    "        \"\"\"\n",
    "        Downloads the data file from the source URL if it does not already exist locally.\n",
    "        Logs file information upon download or skips if the file is already present.\n",
    "        \"\"\"\n",
    "        if not os.path.exists(self.config.local_data_file):  # Check if file already exists\n",
    "            filename, headers = request.urlretrieve(\n",
    "                url=self.config.source_URL,  # URL to download the file from\n",
    "                filename=self.config.local_data_file  # Local path to save the file\n",
    "            )\n",
    "            logger.info(f\"{filename} downloaded with the following info: \\n{headers}\")  # Log successful download\n",
    "        else:\n",
    "            # Log that the file already exists and display its size\n",
    "            logger.info(f\"File already exists of size: {get_size(Path(self.config.local_data_file))}\")\n",
    "\n",
    "    def extract_zip_file(self):\n",
    "        \"\"\"\n",
    "        Extracts the downloaded zip file into the specified directory.\n",
    "        Creates the extraction directory if it does not exist.\n",
    "        \"\"\"\n",
    "        unzip_path = self.config.unzip_dir  # Directory where the files will be extracted\n",
    "        os.makedirs(unzip_path, exist_ok=True)  # Ensure the extraction directory exists\n",
    "        with zipfile.ZipFile(self.config.local_data_file, 'r') as zip_ref:\n",
    "            zip_ref.extractall(unzip_path)  # Extract all files into the unzip directory\n",
    "\n",
    "  "
   ]
  },
  {
   "cell_type": "code",
   "execution_count": 20,
   "metadata": {},
   "outputs": [
    {
     "ename": "NameError",
     "evalue": "name 'ConfigurationManager' is not defined",
     "output_type": "error",
     "traceback": [
      "\u001b[1;31m---------------------------------------------------------------------------\u001b[0m",
      "\u001b[1;31mNameError\u001b[0m                                 Traceback (most recent call last)",
      "Cell \u001b[1;32mIn[20], line 19\u001b[0m\n\u001b[0;32m     15\u001b[0m     data_ingestion\u001b[38;5;241m.\u001b[39mextract_zip_file()\n\u001b[0;32m     17\u001b[0m \u001b[38;5;28;01mexcept\u001b[39;00m \u001b[38;5;167;01mException\u001b[39;00m \u001b[38;5;28;01mas\u001b[39;00m e:\n\u001b[0;32m     18\u001b[0m     \u001b[38;5;66;03m# Raise any exception encountered for debugging or logging purposes\u001b[39;00m\n\u001b[1;32m---> 19\u001b[0m     \u001b[38;5;28;01mraise\u001b[39;00m e\n",
      "Cell \u001b[1;32mIn[20], line 3\u001b[0m\n\u001b[0;32m      1\u001b[0m \u001b[38;5;28;01mtry\u001b[39;00m:\n\u001b[0;32m      2\u001b[0m     \u001b[38;5;66;03m# Initialize ConfigurationManager to read and set up configuration files\u001b[39;00m\n\u001b[1;32m----> 3\u001b[0m     config \u001b[38;5;241m=\u001b[39m \u001b[43mConfigurationManager\u001b[49m()\n\u001b[0;32m      5\u001b[0m     \u001b[38;5;66;03m# Get the data ingestion configuration settings\u001b[39;00m\n\u001b[0;32m      6\u001b[0m     data_ingestion_config \u001b[38;5;241m=\u001b[39m config\u001b[38;5;241m.\u001b[39mget_data_ingestion_config()\n",
      "\u001b[1;31mNameError\u001b[0m: name 'ConfigurationManager' is not defined"
     ]
    }
   ],
   "source": [
    "try:\n",
    "    # Initialize ConfigurationManager to read and set up configuration files\n",
    "    config = ConfigurationManager()\n",
    "\n",
    "    # Get the data ingestion configuration settings\n",
    "    data_ingestion_config = config.get_data_ingestion_config()\n",
    "\n",
    "    # Initialize DataIngestion with the retrieved configuration\n",
    "    data_ingestion = DataIngestion(config=data_ingestion_config)\n",
    "\n",
    "    # Download the data file from the source URL\n",
    "    data_ingestion.download_file()\n",
    "\n",
    "    # Extract the downloaded zip file to the specified directory\n",
    "    data_ingestion.extract_zip_file()\n",
    "\n",
    "except Exception as e:\n",
    "    # Raise any exception encountered for debugging or logging purposes\n",
    "    raise e\n"
   ]
  },
  {
   "cell_type": "code",
   "execution_count": null,
   "metadata": {},
   "outputs": [],
   "source": []
  },
  {
   "cell_type": "code",
   "execution_count": null,
   "metadata": {},
   "outputs": [],
   "source": []
  }
 ],
 "metadata": {
  "kernelspec": {
   "display_name": "mlproj",
   "language": "python",
   "name": "python3"
  },
  "language_info": {
   "codemirror_mode": {
    "name": "ipython",
    "version": 3
   },
   "file_extension": ".py",
   "mimetype": "text/x-python",
   "name": "python",
   "nbconvert_exporter": "python",
   "pygments_lexer": "ipython3",
   "version": "3.8.20"
  }
 },
 "nbformat": 4,
 "nbformat_minor": 2
}
