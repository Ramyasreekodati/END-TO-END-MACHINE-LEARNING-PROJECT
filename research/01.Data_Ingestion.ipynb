{
 "cells": [
  {
   "cell_type": "code",
   "execution_count": 1,
   "metadata": {},
   "outputs": [],
   "source": [
    "import os\n"
   ]
  },
  {
   "cell_type": "code",
   "execution_count": 2,
   "metadata": {},
   "outputs": [
    {
     "data": {
      "text/plain": [
       "'f:\\\\end to end ml project\\\\END-TO-END-MACHINE-LEARNING-PROJECT\\\\research'"
      ]
     },
     "execution_count": 2,
     "metadata": {},
     "output_type": "execute_result"
    }
   ],
   "source": [
    "%pwd"
   ]
  },
  {
   "cell_type": "code",
   "execution_count": 3,
   "metadata": {},
   "outputs": [],
   "source": [
    "os.chdir(\"../\")"
   ]
  },
  {
   "cell_type": "code",
   "execution_count": 4,
   "metadata": {},
   "outputs": [
    {
     "data": {
      "text/plain": [
       "'f:\\\\end to end ml project\\\\END-TO-END-MACHINE-LEARNING-PROJECT'"
      ]
     },
     "execution_count": 4,
     "metadata": {},
     "output_type": "execute_result"
    }
   ],
   "source": [
    "%pwd # one folder back"
   ]
  },
  {
   "cell_type": "markdown",
   "metadata": {},
   "source": []
  },
  {
   "cell_type": "code",
   "execution_count": 5,
   "metadata": {},
   "outputs": [],
   "source": [
    "# congif.yaml\n",
    "\n",
    "\"\"\"Here the process is happening in artifile \"\"\"\n",
    "\n",
    "from dataclasses import dataclass  # the dataclass decorator for simplifying class creation\n",
    "from pathlib import Path  # Path for handling file system paths \n",
    "\n",
    "@dataclass(frozen=True)  #  simplifies the class structure; frozen makes it immutable\n",
    "class DataIngestionConfig:\n",
    "    root_dir: Path  # Root directory for managing all data ingestion-related files and outputs\n",
    "    source_URL: str  # URL of the data source to be downloaded\n",
    "    local_data_file: Path  # Path where the downloaded data file will be stored locally\n",
    "    unzip_dir: Path  # Directory where the data will be extracted after downloading\n"
   ]
  },
  {
   "cell_type": "code",
   "execution_count": 6,
   "metadata": {},
   "outputs": [],
   "source": [
    "# form utils ....common..... read.yaml  \n",
    "from wine_quality.constants import *\n",
    "from wine_quality.utils.common import read_yaml, create_directories"
   ]
  },
  {
   "cell_type": "code",
   "execution_count": 7,
   "metadata": {},
   "outputs": [],
   "source": [
    "class ConfigurationManager:\n",
    "    def __init__(\n",
    "        self,\n",
    "        config_filepath = CONFIG_FILE_PATH,  # Path to the main config file\n",
    "        params_filepath = PARAMS_FILE_PATH,  # Path to the parameters file\n",
    "        schema_filepath = SCHEMA_FILE_PATH  # Path to the schema file\n",
    "    ):\n",
    "        self.config = read_yaml(config_filepath)  # Load configuration settings\n",
    "        self.params = read_yaml(params_filepath)  # Load parameter settings\n",
    "        self.schema = read_yaml(schema_filepath)  # Load schema details\n",
    "\n",
    "        create_directories([self.config.artifacts_root])  # Ensure artifact root directory exists\n",
    "\n",
    "        # Artifacts setup starts here for data ingestion\n",
    "\n",
    "    def get_data_ingestion_config(self) -> DataIngestionConfig:  # Returns data ingestion configuration\n",
    "        config = self.config.data_ingestion  # Access data ingestion settings\n",
    "\n",
    "        create_directories([config.root_dir])  # Ensure the root directory for data ingestion exists\n",
    "\n",
    "        # Populate and return the DataIngestionConfig object with relevant paths and URLs\n",
    "        data_ingestion_config = DataIngestionConfig(\n",
    "            root_dir=config.root_dir,\n",
    "            source_URL=config.source_URL,\n",
    "            local_data_file=config.local_data_file,\n",
    "            unzip_dir=config.unzip_dir\n",
    "        )\n",
    "\n",
    "        return data_ingestion_config\n"
   ]
  },
  {
   "cell_type": "code",
   "execution_count": 8,
   "metadata": {},
   "outputs": [],
   "source": [
    "import os\n",
    "import urllib.request as request\n",
    "import zipfile\n",
    "from wine_quality import logger\n",
    "from wine_quality.utils.common import get_size"
   ]
  },
  {
   "cell_type": "code",
   "execution_count": 9,
   "metadata": {},
   "outputs": [],
   "source": [
    "class DataIngestion:\n",
    "    def __init__(self, config: DataIngestionConfig):\n",
    "        self.config = config  # Store the DataIngestionConfig object for file paths and URLs\n",
    "\n",
    "    def download_file(self):\n",
    "        \"\"\"\n",
    "        Downloads the data file from the source URL if it does not already exist locally.\n",
    "        Logs file information upon download or skips if the file is already present.\n",
    "        \"\"\"\n",
    "        if not os.path.exists(self.config.local_data_file):  # Check if file already exists\n",
    "            filename, headers = request.urlretrieve(\n",
    "                url=self.config.source_URL,  # URL to download the file from\n",
    "                filename=self.config.local_data_file  # Local path to save the file\n",
    "            )\n",
    "            logger.info(f\"{filename} downloaded with the following info: \\n{headers}\")  # Log successful download\n",
    "        else:\n",
    "            # Log that the file already exists and display its size\n",
    "            logger.info(f\"File already exists of size: {get_size(Path(self.config.local_data_file))}\")\n",
    "\n",
    "    def extract_zip_file(self):\n",
    "        \"\"\"\n",
    "        Extracts the downloaded zip file into the specified directory.\n",
    "        Creates the extraction directory if it does not exist.\n",
    "        \"\"\"\n",
    "        unzip_path = self.config.unzip_dir  # Directory where the files will be extracted\n",
    "        os.makedirs(unzip_path, exist_ok=True)  # Ensure the extraction directory exists\n",
    "        with zipfile.ZipFile(self.config.local_data_file, 'r') as zip_ref:\n",
    "            zip_ref.extractall(unzip_path)  # Extract all files into the unzip directory\n",
    "\n",
    "  "
   ]
  },
  {
   "cell_type": "code",
   "execution_count": 10,
   "metadata": {},
   "outputs": [
    {
     "name": "stdout",
     "output_type": "stream",
     "text": [
      "[2024-11-26 05:17:21,331: INFO: common: yaml file: config\\config.yaml loaded successfully]\n",
      "[2024-11-26 05:17:21,334: INFO: common: yaml file: Params.yaml loaded successfully]\n",
      "[2024-11-26 05:17:21,340: INFO: common: yaml file: schema.yaml loaded successfully]\n",
      "[2024-11-26 05:17:21,340: INFO: common: created directory at: artifacts]\n",
      "[2024-11-26 05:17:21,346: INFO: common: created directory at: artifacts/data_ingestion]\n",
      "[2024-11-26 05:17:23,757: INFO: 1415412580: artifacts/data_ingestion/data.zip downloaded with the following info: \n",
      "Connection: close\n",
      "Content-Length: 21984\n",
      "Cache-Control: max-age=300\n",
      "Content-Security-Policy: default-src 'none'; style-src 'unsafe-inline'; sandbox\n",
      "Content-Type: application/zip\n",
      "ETag: \"85a38be3d4c70e3b6dc97fc47873623da88c9b850e1526aeb57ff236bdd2815c\"\n",
      "Strict-Transport-Security: max-age=31536000\n",
      "X-Content-Type-Options: nosniff\n",
      "X-Frame-Options: deny\n",
      "X-XSS-Protection: 1; mode=block\n",
      "X-GitHub-Request-Id: A798:34E87F:53F7:B2E9:67450A2A\n",
      "Accept-Ranges: bytes\n",
      "Date: Mon, 25 Nov 2024 23:47:23 GMT\n",
      "Via: 1.1 varnish\n",
      "X-Served-By: cache-hyd1100022-HYD\n",
      "X-Cache: HIT\n",
      "X-Cache-Hits: 0\n",
      "X-Timer: S1732578443.311241,VS0,VE298\n",
      "Vary: Authorization,Accept-Encoding,Origin\n",
      "Access-Control-Allow-Origin: *\n",
      "Cross-Origin-Resource-Policy: cross-origin\n",
      "X-Fastly-Request-ID: 32609235e07f1c61b4bca1597d660883d31f121a\n",
      "Expires: Mon, 25 Nov 2024 23:52:23 GMT\n",
      "Source-Age: 0\n",
      "\n",
      "]\n"
     ]
    }
   ],
   "source": [
    "try:\n",
    "    # Initialize ConfigurationManager to read and set up configuration files\n",
    "    config = ConfigurationManager()\n",
    "\n",
    "    # Get the data ingestion configuration settings\n",
    "    data_ingestion_config = config.get_data_ingestion_config()\n",
    "\n",
    "    # Initialize DataIngestion with the retrieved configuration\n",
    "    data_ingestion = DataIngestion(config=data_ingestion_config)\n",
    "\n",
    "    # Download the data file from the source URL\n",
    "    data_ingestion.download_file()\n",
    "\n",
    "    # Extract the downloaded zip file to the specified directory\n",
    "    data_ingestion.extract_zip_file()\n",
    "\n",
    "except Exception as e:\n",
    "    # Raise any exception encountered for debugging or logging purposes\n",
    "    raise e\n"
   ]
  },
  {
   "cell_type": "code",
   "execution_count": null,
   "metadata": {},
   "outputs": [],
   "source": []
  },
  {
   "cell_type": "code",
   "execution_count": null,
   "metadata": {},
   "outputs": [],
   "source": []
  }
 ],
 "metadata": {
  "kernelspec": {
   "display_name": "mlproj",
   "language": "python",
   "name": "python3"
  },
  "language_info": {
   "codemirror_mode": {
    "name": "ipython",
    "version": 3
   },
   "file_extension": ".py",
   "mimetype": "text/x-python",
   "name": "python",
   "nbconvert_exporter": "python",
   "pygments_lexer": "ipython3",
   "version": "3.8.20"
  }
 },
 "nbformat": 4,
 "nbformat_minor": 2
}
